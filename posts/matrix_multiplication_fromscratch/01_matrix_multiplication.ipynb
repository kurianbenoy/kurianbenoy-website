{
 "cells": [
  {
   "cell_type": "markdown",
   "id": "19d11acf-a317-4947-aebb-8ae70070215d",
   "metadata": {},
   "source": [
    "# Matrix Multiplication from Scratch\n",
    "\n",
    "The objective is for kurian to implement matrix multiplication from scratch"
   ]
  },
  {
   "cell_type": "code",
   "execution_count": 1,
   "id": "ef3dbfb8-b96f-4448-887e-ac730f203640",
   "metadata": {},
   "outputs": [],
   "source": [
    "import pickle\n",
    "import gzip\n",
    "import urllib.request\n",
    "from pathlib import Path\n",
    "from itertools import islice\n",
    "\n",
    "import torch\n",
    "import matplotlib.pyplot as plt\n",
    "torch.set_printoptions(linewidth=140, precision=2)"
   ]
  },
  {
   "cell_type": "markdown",
   "id": "468e6fbc-fab0-4664-b885-3b333abdcb83",
   "metadata": {},
   "source": [
    "## Getting data, visualizing and chunking into 28*28"
   ]
  },
  {
   "cell_type": "code",
   "execution_count": 2,
   "id": "4a6ae522-4406-4fb8-b81c-cc3a15886658",
   "metadata": {},
   "outputs": [],
   "source": [
    "MNIST_URL='https://github.com/mnielsen/neural-networks-and-deep-learning/blob/master/data/mnist.pkl.gz?raw=true'\n",
    "data_path = Path(\"../data\")\n",
    "data_path.mkdir(exist_ok=True)"
   ]
  },
  {
   "cell_type": "code",
   "execution_count": 3,
   "id": "af627946-98e2-409f-b138-890b8b11aa5a",
   "metadata": {},
   "outputs": [],
   "source": [
    "import urllib.request"
   ]
  },
  {
   "cell_type": "code",
   "execution_count": 4,
   "id": "f1574c76-c5f3-41bc-8440-f59099aba2f2",
   "metadata": {},
   "outputs": [
    {
     "data": {
      "text/plain": [
       "'/tmp/tmp5pj0nsjp'"
      ]
     },
     "execution_count": 4,
     "metadata": {},
     "output_type": "execute_result"
    }
   ],
   "source": [
    "local_filename, headers = urllib.request.urlretrieve('http://python.org/')\n",
    "local_filename"
   ]
  },
  {
   "cell_type": "code",
   "execution_count": 9,
   "id": "e45ac754-fa74-465b-bcd2-34ad06e888bd",
   "metadata": {},
   "outputs": [
    {
     "data": {
      "text/plain": [
       "('/tmp/tmp_egommr7', <http.client.HTTPMessage at 0x7feb0707f370>)"
      ]
     },
     "execution_count": 9,
     "metadata": {},
     "output_type": "execute_result"
    }
   ],
   "source": [
    "urllib.request.urlretrieve('https://python.org/')"
   ]
  },
  {
   "cell_type": "code",
   "execution_count": 6,
   "id": "de649d20-f1dd-44a9-9157-db3d9d7efba4",
   "metadata": {},
   "outputs": [
    {
     "data": {
      "text/plain": [
       "<_io.TextIOWrapper name='/tmp/tmp5pj0nsjp' mode='r' encoding='UTF-8'>"
      ]
     },
     "execution_count": 6,
     "metadata": {},
     "output_type": "execute_result"
    }
   ],
   "source": [
    "html = open(local_filename); html"
   ]
  },
  {
   "cell_type": "code",
   "execution_count": 7,
   "id": "0cdcabd6-ee73-4c3b-8409-b2045b3ee64a",
   "metadata": {},
   "outputs": [],
   "source": [
    "html.close()"
   ]
  },
  {
   "cell_type": "code",
   "execution_count": 10,
   "id": "e8ef145e-b0de-4a03-922f-df47fc412838",
   "metadata": {},
   "outputs": [
    {
     "data": {
      "text/plain": [
       "('/tmp/tmp4ezaea14', <http.client.HTTPMessage at 0x7feb0707f100>)"
      ]
     },
     "execution_count": 10,
     "metadata": {},
     "output_type": "execute_result"
    }
   ],
   "source": [
    "urllib.request.urlretrieve(MNIST_URL)"
   ]
  },
  {
   "cell_type": "code",
   "execution_count": 18,
   "id": "aaf2a9f1-6116-4d75-8068-43234b6b3c01",
   "metadata": {},
   "outputs": [
    {
     "data": {
      "text/plain": [
       "\u001b[0;31mSignature:\u001b[0m \u001b[0murllib\u001b[0m\u001b[0;34m.\u001b[0m\u001b[0mrequest\u001b[0m\u001b[0;34m.\u001b[0m\u001b[0murlretrieve\u001b[0m\u001b[0;34m(\u001b[0m\u001b[0murl\u001b[0m\u001b[0;34m,\u001b[0m \u001b[0mfilename\u001b[0m\u001b[0;34m=\u001b[0m\u001b[0;32mNone\u001b[0m\u001b[0;34m,\u001b[0m \u001b[0mreporthook\u001b[0m\u001b[0;34m=\u001b[0m\u001b[0;32mNone\u001b[0m\u001b[0;34m,\u001b[0m \u001b[0mdata\u001b[0m\u001b[0;34m=\u001b[0m\u001b[0;32mNone\u001b[0m\u001b[0;34m)\u001b[0m\u001b[0;34m\u001b[0m\u001b[0;34m\u001b[0m\u001b[0m\n",
       "\u001b[0;31mDocstring:\u001b[0m\n",
       "Retrieve a URL into a temporary location on disk.\n",
       "\n",
       "Requires a URL argument. If a filename is passed, it is used as\n",
       "the temporary file location. The reporthook argument should be\n",
       "a callable that accepts a block number, a read size, and the\n",
       "total file size of the URL target. The data argument should be\n",
       "valid URL encoded data.\n",
       "\n",
       "If a filename is passed and the URL points to a local resource,\n",
       "the result is a copy from local file to new file.\n",
       "\n",
       "Returns a tuple containing the path to the newly created\n",
       "data file as well as the resulting HTTPMessage object.\n",
       "\u001b[0;31mFile:\u001b[0m      /opt/conda/lib/python3.8/urllib/request.py\n",
       "\u001b[0;31mType:\u001b[0m      function\n"
      ]
     },
     "metadata": {},
     "output_type": "display_data"
    }
   ],
   "source": [
    "urllib.request.urlretrieve?"
   ]
  },
  {
   "cell_type": "markdown",
   "id": "135988d3-6507-40a2-be71-42b1ea86e864",
   "metadata": {},
   "source": [
    "Latest equivalent in python3"
   ]
  },
  {
   "cell_type": "code",
   "execution_count": 22,
   "id": "738ad3b2-5caf-4056-ac90-c178ceca3f72",
   "metadata": {},
   "outputs": [
    {
     "name": "stdout",
     "output_type": "stream",
     "text": [
      "<!DOCTYPE html>\n",
      "<html xmlns=\"http://www.w3.org/1999/xhtml\" lang=\"en\" xml:lang=\"en\"><head>\n",
      "\n",
      "<meta charset=\"utf-8\">\n",
      "<meta name=\"generator\" content=\"quarto-1.2.280\">\n",
      "\n",
      "<meta name=\"viewport\" content=\"width=device-width, initial-scale=1.0, user-scalable=yes\">\n",
      "\n",
      "\n",
      "<title>Kurian Benoy</title>\n",
      "<style>\n",
      "code{white-space: pre-wrap;}\n",
      "span.smallcaps{font-variant: small-caps;}\n",
      "div.columns{display: flex; gap: min(4vw, 1.5em);}\n",
      "div.column{flex: auto; overflow-x: auto;}\n",
      "div.hanging-indent{margin-left: 1.5em; text-indent: -1.5em;}\n",
      "ul.task-list{list-style: none;}\n",
      "ul.task-list li input[type=\"checkbox\"] {\n",
      "  width: 0.8em;\n",
      "  margin: 0 0.8em 0.2em -1.6em;\n",
      "  vertical-align: middle;\n",
      "}\n",
      "</style>\n",
      "\n",
      "\n",
      "<script src=\"site_libs/quarto-nav/quarto-nav.js\"></script>\n",
      "<script src=\"site_libs/quarto-nav/headroom.min.js\"></script>\n",
      "<script src=\"site_libs/clipboard/clipboard.min.js\"></script>\n",
      "<script src=\"site_libs/quarto-search/autocomplete.umd.js\"></script>\n",
      "<script src=\"site_libs/quarto-search/fuse.min.js\"></script>\n",
      "<script src=\"site_libs/quarto-search/quarto-search.js\"></script>\n",
      "<meta name=\"quarto:offset\" content=\"./\">\n",
      "<script src=\"site_libs/quarto-html/quarto.js\"></script>\n",
      "<script src=\"site_libs/quarto-html/popper.min.js\"></script>\n",
      "<script src=\"site_libs/quarto-html/tippy.umd.min.js\"></script>\n",
      "<link href=\"site_libs/quarto-html/tippy.css\" rel=\"stylesheet\">\n",
      "<link href=\"site_libs/quarto-html/quarto-syntax-highlighting.css\" rel=\"stylesheet\" id=\"quarto-text-highlighting-styles\">\n",
      "<script src=\"site_libs/bootstrap/bootstrap.min.js\"></script>\n",
      "<link href=\"site_libs/bootstrap/bootstrap-icons.css\" rel=\"stylesheet\">\n",
      "<link href=\"site_libs/bootstrap/bootstrap.min.css\" rel=\"stylesheet\" id=\"quarto-bootstrap\" data-mode=\"light\">\n",
      "<script id=\"quarto-search-options\" type=\"application/json\">{\n",
      "  \"location\": \"navbar\",\n",
      "  \"copy-button\": false,\n",
      "  \"collapse-after\": 3,\n",
      "  \"panel-placement\": \"end\",\n",
      "  \"type\": \"overlay\",\n",
      "  \"limit\": 20,\n",
      "  \"language\": {\n",
      "    \"search-no-results-text\": \"No results\",\n",
      "    \"search-matching-documents-text\": \"matching documents\",\n",
      "    \"search-copy-link-title\": \"Copy link to search\",\n",
      "    \"search-hide-matches-text\": \"Hide additional matches\",\n",
      "    \"search-more-match-text\": \"more match in this document\",\n",
      "    \"search-more-matches-text\": \"more matches in this document\",\n",
      "    \"search-clear-button-title\": \"Clear\",\n",
      "    \"search-detached-cancel-button-title\": \"Cancel\",\n",
      "    \"search-submit-button-title\": \"Submit\"\n",
      "  }\n",
      "}</script>\n",
      "\n",
      "\n",
      "<link rel=\"stylesheet\" href=\"styles.css\">\n",
      "</head>\n",
      "\n",
      "<body class=\"nav-fixed\">\n",
      "\n",
      "<div id=\"quarto-search-results\"></div>\n",
      "  <header id=\"quarto-header\" class=\"headroom fixed-top\">\n",
      "    <nav class=\"navbar navbar-expand-lg navbar-dark \">\n",
      "      <div class=\"navbar-container container-fluid\">\n",
      "      <div class=\"navbar-brand-container\">\n",
      "    <a class=\"navbar-brand\" href=\"./index.html\">\n",
      "    <span class=\"navbar-title\">Kurian Benoy</span>\n",
      "    </a>\n",
      "  </div>\n",
      "          <button class=\"navbar-toggler\" type=\"button\" data-bs-toggle=\"collapse\" data-bs-target=\"#navbarCollapse\" aria-controls=\"navbarCollapse\" aria-expanded=\"false\" aria-label=\"Toggle navigation\" onclick=\"if (window.quartoToggleHeadroom) { window.quartoToggleHeadroom(); }\">\n",
      "  <span class=\"navbar-toggler-icon\"></span>\n",
      "</button>\n",
      "          <div class=\"collapse navbar-collapse\" id=\"navbarCollapse\">\n",
      "            <ul class=\"navbar-nav navbar-nav-scroll ms-auto\">\n",
      "  <li class=\"nav-item\">\n",
      "    <a class=\"nav-link\" href=\"./blog.html\">\n",
      " <span class=\"menu-text\">Blog</span></a>\n",
      "  </li>  \n",
      "  <li class=\"nav-item\">\n",
      "    <a class=\"nav-link\" href=\"./talks.html\">\n",
      " <span class=\"menu-text\">Talks</span></a>\n",
      "  </li>  \n",
      "  <li class=\"nav-item\">\n",
      "    <a class=\"nav-link\" href=\"https://til.kurianbenoy.com/\">\n",
      " <span class=\"menu-text\">TIL</span></a>\n",
      "  </li>  \n",
      "  <li class=\"nav-item compact\">\n",
      "    <a class=\"nav-link\" href=\"https://linkedin.com/in/kurianbenoy\"><i class=\"bi bi-linkedin\" role=\"img\">\n",
      "</i> \n",
      " <span class=\"menu-text\"></span></a>\n",
      "  </li>  \n",
      "  <li class=\"nav-item compact\">\n",
      "    <a class=\"nav-link\" href=\"https://twitter.com/kurianbenoy2\"><i class=\"bi bi-twitter\" role=\"img\">\n",
      "</i> \n",
      " <span class=\"menu-text\"></span></a>\n",
      "  </li>  \n",
      "  <li class=\"nav-item compact\">\n",
      "    <a class=\"nav-link\" href=\"https://github.com/kurianbenoy\"><i class=\"bi bi-github\" role=\"img\">\n",
      "</i> \n",
      " <span class=\"menu-text\"></span></a>\n",
      "  </li>  \n",
      "  <li class=\"nav-item compact\">\n",
      "    <a class=\"nav-link\" href=\"./blog.xml\"><i class=\"bi bi-rss\" role=\"img\">\n",
      "</i> \n",
      " <span class=\"menu-text\"></span></a>\n",
      "  </li>  \n",
      "</ul>\n",
      "              <div id=\"quarto-search\" class=\"\" title=\"Search\"></div>\n",
      "          </div> <!-- /navcollapse -->\n",
      "      </div> <!-- /container-fluid -->\n",
      "    </nav>\n",
      "</header>\n",
      "<!-- content -->\n",
      "<div id=\"quarto-content\" class=\"quarto-container page-columns page-rows-contents page-layout-full page-navbar\">\n",
      "<!-- sidebar -->\n",
      "<!-- margin-sidebar -->\n",
      "    \n",
      "<!-- main -->\n",
      "<div class=\"quarto-about-trestles column-page\">\n",
      "  <div class=\"about-entity\">\n",
      "    <img src=\"/posts/images/fossasia_summit_2019/my_lighting_talk.jpg\" class=\"about-image\n",
      "  rounded \" style=\"width: 20em;\">\n",
      "<header id=\"title-block-header\" class=\"quarto-title-block default\">\n",
      "<div class=\"quarto-title\">\n",
      "<h1 class=\"title\">Kurian Benoy</h1>\n",
      "</div>\n",
      "<div class=\"quarto-title-meta\">\n",
      "  </div>\n",
      "</header>\n",
      "    <div class=\"about-links\">\n",
      "  <a href=\"https://linkedin.com/in/kurianbenoy\" class=\"about-link\">\n",
      "    <i class=\"bi bi-linkedin\"></i>\n",
      "     <span class=\"about-link-text\">LinkedIn</span>\n",
      "  </a>\n",
      "  <a href=\"https://twitter.com/kurianbenoy2\" class=\"about-link\">\n",
      "    <i class=\"bi bi-twitter\"></i>\n",
      "     <span class=\"about-link-text\">Twitter</span>\n",
      "  </a>\n",
      "  <a href=\"https://github.com/kurianbenoy\" class=\"about-link\">\n",
      "    <i class=\"bi bi-github\"></i>\n",
      "     <span class=\"about-link-text\">GitHub</span>\n",
      "  </a>\n",
      "  <a href=\"mailto:kurian.bkk@gmail.com\" class=\"about-link\">\n",
      "     <span class=\"about-link-text\">Email</span>\n",
      "  </a>\n",
      "  <a href=\"/blog.html\" class=\"about-link\">\n",
      "     <span class=\"about-link-text\">Blog</span>\n",
      "  </a>\n",
      "</div>\n",
      "  </div>\n",
      "  <div class=\"about-contents\"><main class=\"content column-page\" id=\"quarto-document-content\">\n",
      "<section id=\"about-me\" class=\"level2\">\n",
      "<h2 data-anchor-id=\"about-me\">About Me</h2>\n",
      "<p>Hello everyone!</p>\n",
      "<p>Hi, I am a Machine Learning Engineer working in <a href=\"https://www.sentient.io/en/\">Sentient.io</a>, a startup based in Singapore.</p>\n",
      "<p>I have multiple years of experience in Python and Machine learning experience, where I am now looking more into the MLOPs side. I have contributed to various open source organizations like Keras, DVC, HuggingFace, fast.ai, Swathanthra Malayalam Computing, CloudCV etc.</p>\n",
      "<p>I like to speak and interact with developer community. I am an active member of <a href=\"https://forums.fast.ai/u/kurianbenoy/summary\">fast.ai community</a> and engage in lot of other communities based in Kerala. I have given talk as expert in competence of Machine Learning and core Python in <a href=\"https://in.pycon.org\">Pycon India</a>, which is the largest gathering of Pythonistas in India for the Python programming language.</p>\n",
      "<p>I follow an open to contact policy for anyone to reach me anytime. I am quite easy to reach out via <a href=\"mailto:kurian.bkk@gmail.com\">email</a> or feel free to connect or contact me in any of the social media platforms.</p>\n",
      "\n",
      "\n",
      "</section>\n",
      "</main></div>\n",
      "</div>\n",
      " <!-- /main -->\n",
      "<script id=\"quarto-html-after-body\" type=\"application/javascript\">\n",
      "window.document.addEventListener(\"DOMContentLoaded\", function (event) {\n",
      "  const toggleBodyColorMode = (bsSheetEl) => {\n",
      "    const mode = bsSheetEl.getAttribute(\"data-mode\");\n",
      "    const bodyEl = window.document.querySelector(\"body\");\n",
      "    if (mode === \"dark\") {\n",
      "      bodyEl.classList.add(\"quarto-dark\");\n",
      "      bodyEl.classList.remove(\"quarto-light\");\n",
      "    } else {\n",
      "      bodyEl.classList.add(\"quarto-light\");\n",
      "      bodyEl.classList.remove(\"quarto-dark\");\n",
      "    }\n",
      "  }\n",
      "  const toggleBodyColorPrimary = () => {\n",
      "    const bsSheetEl = window.document.querySelector(\"link#quarto-bootstrap\");\n",
      "    if (bsSheetEl) {\n",
      "      toggleBodyColorMode(bsSheetEl);\n",
      "    }\n",
      "  }\n",
      "  toggleBodyColorPrimary();  \n",
      "  const clipboard = new window.ClipboardJS('.code-copy-button', {\n",
      "    target: function(trigger) {\n",
      "      return trigger.previousElementSibling;\n",
      "    }\n",
      "  });\n",
      "  clipboard.on('success', function(e) {\n",
      "    // button target\n",
      "    const button = e.trigger;\n",
      "    // don't keep focus\n",
      "    button.blur();\n",
      "    // flash \"checked\"\n",
      "    button.classList.add('code-copy-button-checked');\n",
      "    var currentTitle = button.getAttribute(\"title\");\n",
      "    button.setAttribute(\"title\", \"Copied!\");\n",
      "    let tooltip;\n",
      "    if (window.bootstrap) {\n",
      "      button.setAttribute(\"data-bs-toggle\", \"tooltip\");\n",
      "      button.setAttribute(\"data-bs-placement\", \"left\");\n",
      "      button.setAttribute(\"data-bs-title\", \"Copied!\");\n",
      "      tooltip = new bootstrap.Tooltip(button, \n",
      "        { trigger: \"manual\", \n",
      "          customClass: \"code-copy-button-tooltip\",\n",
      "          offset: [0, -8]});\n",
      "      tooltip.show();    \n",
      "    }\n",
      "    setTimeout(function() {\n",
      "      if (tooltip) {\n",
      "        tooltip.hide();\n",
      "        button.removeAttribute(\"data-bs-title\");\n",
      "        button.removeAttribute(\"data-bs-toggle\");\n",
      "        button.removeAttribute(\"data-bs-placement\");\n",
      "      }\n",
      "      button.setAttribute(\"title\", currentTitle);\n",
      "      button.classList.remove('code-copy-button-checked');\n",
      "    }, 1000);\n",
      "    // clear code selection\n",
      "    e.clearSelection();\n",
      "  });\n",
      "  function tippyHover(el, contentFn) {\n",
      "    const config = {\n",
      "      allowHTML: true,\n",
      "      content: contentFn,\n",
      "      maxWidth: 500,\n",
      "      delay: 100,\n",
      "      arrow: false,\n",
      "      appendTo: function(el) {\n",
      "          return el.parentElement;\n",
      "      },\n",
      "      interactive: true,\n",
      "      interactiveBorder: 10,\n",
      "      theme: 'quarto',\n",
      "      placement: 'bottom-start'\n",
      "    };\n",
      "    window.tippy(el, config); \n",
      "  }\n",
      "  const noterefs = window.document.querySelectorAll('a[role=\"doc-noteref\"]');\n",
      "  for (var i=0; i<noterefs.length; i++) {\n",
      "    const ref = noterefs[i];\n",
      "    tippyHover(ref, function() {\n",
      "      // use id or data attribute instead here\n",
      "      let href = ref.getAttribute('data-footnote-href') || ref.getAttribute('href');\n",
      "      try { href = new URL(href).hash; } catch {}\n",
      "      const id = href.replace(/^#\\/?/, \"\");\n",
      "      const note = window.document.getElementById(id);\n",
      "      return note.innerHTML;\n",
      "    });\n",
      "  }\n",
      "  const findCites = (el) => {\n",
      "    const parentEl = el.parentElement;\n",
      "    if (parentEl) {\n",
      "      const cites = parentEl.dataset.cites;\n",
      "      if (cites) {\n",
      "        return {\n",
      "          el,\n",
      "          cites: cites.split(' ')\n",
      "        };\n",
      "      } else {\n",
      "        return findCites(el.parentElement)\n",
      "      }\n",
      "    } else {\n",
      "      return undefined;\n",
      "    }\n",
      "  };\n",
      "  var bibliorefs = window.document.querySelectorAll('a[role=\"doc-biblioref\"]');\n",
      "  for (var i=0; i<bibliorefs.length; i++) {\n",
      "    const ref = bibliorefs[i];\n",
      "    const citeInfo = findCites(ref);\n",
      "    if (citeInfo) {\n",
      "      tippyHover(citeInfo.el, function() {\n",
      "        var popup = window.document.createElement('div');\n",
      "        citeInfo.cites.forEach(function(cite) {\n",
      "          var citeDiv = window.document.createElement('div');\n",
      "          citeDiv.classList.add('hanging-indent');\n",
      "          citeDiv.classList.add('csl-entry');\n",
      "          var biblioDiv = window.document.getElementById('ref-' + cite);\n",
      "          if (biblioDiv) {\n",
      "            citeDiv.innerHTML = biblioDiv.innerHTML;\n",
      "          }\n",
      "          popup.appendChild(citeDiv);\n",
      "        });\n",
      "        return popup.innerHTML;\n",
      "      });\n",
      "    }\n",
      "  }\n",
      "});\n",
      "</script>\n",
      "</div> <!-- /content -->\n",
      "\n",
      "\n",
      "\n",
      "</body></html>\n"
     ]
    }
   ],
   "source": [
    "import urllib.request\n",
    "import urllib.parse\n",
    "# params = urllib.parse.urlencode({'spam': 1, 'eggs': 2, 'bacon': 0})\n",
    "url = \"https://kurianbenoy.com\"\n",
    "with urllib.request.urlopen(url) as f:\n",
    "    print(f.read().decode('utf-8'))"
   ]
  },
  {
   "cell_type": "code",
   "execution_count": 25,
   "id": "de8b76a1-67d7-4f77-b193-8f26be4e8214",
   "metadata": {},
   "outputs": [
    {
     "name": "stderr",
     "output_type": "stream",
     "text": [
      "IOPub data rate exceeded.\n",
      "The notebook server will temporarily stop sending output\n",
      "to the client in order to avoid crashing it.\n",
      "To change this limit, set the config variable\n",
      "`--NotebookApp.iopub_data_rate_limit`.\n",
      "\n",
      "Current values:\n",
      "NotebookApp.iopub_data_rate_limit=1000000.0 (bytes/sec)\n",
      "NotebookApp.rate_limit_window=3.0 (secs)\n",
      "\n"
     ]
    }
   ],
   "source": [
    "with urllib.request.urlopen(MNIST_URL) as f:\n",
    "    print(f.read())"
   ]
  },
  {
   "cell_type": "code",
   "execution_count": 11,
   "id": "62ac6e14-f9b2-4e4b-8450-2570237cf612",
   "metadata": {},
   "outputs": [],
   "source": [
    "data_gz = data_path/'mnist.pkl.gz'"
   ]
  },
  {
   "cell_type": "code",
   "execution_count": 12,
   "id": "49b28455-b6d8-4808-8849-a9c487ab7d95",
   "metadata": {},
   "outputs": [
    {
     "data": {
      "text/plain": [
       "(PosixPath('../data/mnist.pkl.gz'),\n",
       " <http.client.HTTPMessage at 0x7feb0707f430>)"
      ]
     },
     "execution_count": 12,
     "metadata": {},
     "output_type": "execute_result"
    }
   ],
   "source": [
    "urllib.request.urlretrieve(MNIST_URL, data_gz)"
   ]
  },
  {
   "cell_type": "code",
   "execution_count": 13,
   "id": "fe349350-9877-492a-b1da-263756476332",
   "metadata": {},
   "outputs": [
    {
     "data": {
      "text/plain": [
       "[PosixPath('../data/mnist.pkl.gz')]"
      ]
     },
     "execution_count": 13,
     "metadata": {},
     "output_type": "execute_result"
    }
   ],
   "source": [
    "[x for x in data_path.iterdir()]"
   ]
  },
  {
   "cell_type": "code",
   "execution_count": 13,
   "id": "6942056b-687a-4cf3-961f-74b26b59bd65",
   "metadata": {},
   "outputs": [],
   "source": [
    "with gzip.open(data_gz, 'rb') as f:\n",
    "    ((x_train, y_train), (x_valid, y_valid), (x_test, y_test)) = pickle.load(f, encoding='latin1')"
   ]
  },
  {
   "cell_type": "code",
   "execution_count": 14,
   "id": "67c54a06-59df-4f18-bc1f-7bf246749834",
   "metadata": {},
   "outputs": [
    {
     "data": {
      "text/plain": [
       "(50000, 784)"
      ]
     },
     "execution_count": 14,
     "metadata": {},
     "output_type": "execute_result"
    }
   ],
   "source": [
    "x_train.shape"
   ]
  },
  {
   "cell_type": "code",
   "execution_count": 15,
   "id": "3352f774-4e1c-4004-8ae3-8e511e49cdd0",
   "metadata": {},
   "outputs": [
    {
     "data": {
      "text/plain": [
       "(10000, 784)"
      ]
     },
     "execution_count": 15,
     "metadata": {},
     "output_type": "execute_result"
    }
   ],
   "source": [
    "x_valid.shape"
   ]
  },
  {
   "cell_type": "code",
   "execution_count": 16,
   "id": "74e7f868-0d2b-4624-83ba-111c2c6b1320",
   "metadata": {},
   "outputs": [
    {
     "data": {
      "text/plain": [
       "(10000, 784)"
      ]
     },
     "execution_count": 16,
     "metadata": {},
     "output_type": "execute_result"
    }
   ],
   "source": [
    "x_test.shape"
   ]
  },
  {
   "cell_type": "code",
   "execution_count": 10,
   "id": "f9bdb5a1-5c74-4027-af25-4a7a6664a7a0",
   "metadata": {},
   "outputs": [
    {
     "data": {
      "text/plain": [
       "[0.0, 0.0, 0.0, 0.0, 0.0, 0.0, 0.0, 0.0, 0.0, 0.0]"
      ]
     },
     "execution_count": 10,
     "metadata": {},
     "output_type": "execute_result"
    }
   ],
   "source": [
    "img1 = list(x_train[100]); img1[:10]"
   ]
  },
  {
   "cell_type": "code",
   "execution_count": 11,
   "id": "dc70e837-bba0-44b8-bf01-795743716f44",
   "metadata": {},
   "outputs": [],
   "source": [
    "# for i in range(784):\n",
    "#     print(i)"
   ]
  },
  {
   "cell_type": "code",
   "execution_count": 17,
   "id": "4fb6deac-139d-4838-92a3-7f8ce51a5813",
   "metadata": {},
   "outputs": [
    {
     "data": {
      "text/plain": [
       "28.0"
      ]
     },
     "execution_count": 17,
     "metadata": {},
     "output_type": "execute_result"
    }
   ],
   "source": [
    "len(img1)/28"
   ]
  },
  {
   "cell_type": "code",
   "execution_count": 25,
   "id": "263a75fe-c68b-428d-beaf-bb4f3a14d2d1",
   "metadata": {},
   "outputs": [],
   "source": [
    "def chunks(item, chunk_size):\n",
    "    for i in range(len(item)//chunk_size):\n",
    "        yield item[i*chunk_size:i*chunk_size+chunk_size]"
   ]
  },
  {
   "cell_type": "code",
   "execution_count": 28,
   "id": "8869cb1b-0797-4bd2-b3d2-24428f0cfff7",
   "metadata": {},
   "outputs": [
    {
     "data": {
      "text/plain": [
       "<generator object chunks at 0x7f8d102e57b0>"
      ]
     },
     "execution_count": 28,
     "metadata": {},
     "output_type": "execute_result"
    }
   ],
   "source": [
    "val_iter = chunks(img1, 28); iter(val_iter)"
   ]
  },
  {
   "cell_type": "code",
   "execution_count": 29,
   "id": "07cbe3cb-2525-42ef-ab8e-3955470b1bfb",
   "metadata": {},
   "outputs": [
    {
     "data": {
      "text/plain": [
       "[0.0,\n",
       " 0.0,\n",
       " 0.0,\n",
       " 0.0,\n",
       " 0.0,\n",
       " 0.0,\n",
       " 0.0,\n",
       " 0.0,\n",
       " 0.0,\n",
       " 0.0,\n",
       " 0.0,\n",
       " 0.0,\n",
       " 0.0,\n",
       " 0.0,\n",
       " 0.0,\n",
       " 0.0,\n",
       " 0.0,\n",
       " 0.0,\n",
       " 0.0,\n",
       " 0.0,\n",
       " 0.0,\n",
       " 0.0,\n",
       " 0.0,\n",
       " 0.0,\n",
       " 0.0,\n",
       " 0.0,\n",
       " 0.0,\n",
       " 0.0]"
      ]
     },
     "execution_count": 29,
     "metadata": {},
     "output_type": "execute_result"
    }
   ],
   "source": [
    "next(val_iter)"
   ]
  },
  {
   "cell_type": "code",
   "execution_count": 31,
   "id": "eedad0c1-b32d-40b4-89cd-91bf20332ff8",
   "metadata": {},
   "outputs": [
    {
     "data": {
      "text/plain": [
       "28"
      ]
     },
     "execution_count": 31,
     "metadata": {},
     "output_type": "execute_result"
    }
   ],
   "source": [
    "len(list(chunks(img1, 28)))"
   ]
  },
  {
   "cell_type": "code",
   "execution_count": 32,
   "id": "3d7bf722-5887-4fd1-a0ae-5b97b1402270",
   "metadata": {},
   "outputs": [
    {
     "data": {
      "text/plain": [
       "<matplotlib.image.AxesImage at 0x7f8d10246fd0>"
      ]
     },
     "execution_count": 32,
     "metadata": {},
     "output_type": "execute_result"
    },
    {
     "data": {
      "image/png": "[encoded data removed]",
      "text/plain": [
       "<Figure size 432x288 with 1 Axes>"
      ]
     },
     "metadata": {
      "needs_background": "light"
     },
     "output_type": "display_data"
    }
   ],
   "source": [
    "plt.imshow(list(chunks(img1, 28)))"
   ]
  },
  {
   "cell_type": "code",
   "execution_count": 36,
   "id": "f4c4975b-49b3-4f29-87c7-015e5b452f87",
   "metadata": {},
   "outputs": [
    {
     "data": {
      "text/plain": [
       "<itertools.islice at 0x7f8d10203770>"
      ]
     },
     "execution_count": 36,
     "metadata": {},
     "output_type": "execute_result"
    }
   ],
   "source": [
    "islice(img1, 28)"
   ]
  },
  {
   "cell_type": "code",
   "execution_count": 52,
   "id": "40b313fd-7bd2-4a8c-abee-7fc635353a74",
   "metadata": {},
   "outputs": [
    {
     "data": {
      "text/plain": [
       "[0.0,\n",
       " 0.0,\n",
       " 0.0,\n",
       " 0.0,\n",
       " 0.0,\n",
       " 0.0,\n",
       " 0.0,\n",
       " 0.0,\n",
       " 0.0,\n",
       " 0.0,\n",
       " 0.0,\n",
       " 0.0,\n",
       " 0.0,\n",
       " 0.0,\n",
       " 0.0,\n",
       " 0.0,\n",
       " 0.0,\n",
       " 0.0,\n",
       " 0.0,\n",
       " 0.0,\n",
       " 0.0,\n",
       " 0.0,\n",
       " 0.0,\n",
       " 0.0,\n",
       " 0.0,\n",
       " 0.0,\n",
       " 0.0,\n",
       " 0.0]"
      ]
     },
     "execution_count": 52,
     "metadata": {},
     "output_type": "execute_result"
    }
   ],
   "source": [
    "list(islice(img1, 28))"
   ]
  },
  {
   "cell_type": "code",
   "execution_count": 41,
   "id": "ed72465a-9903-40af-a9fb-48fb10450d87",
   "metadata": {},
   "outputs": [
    {
     "data": {
      "text/plain": [
       "<itertools.islice at 0x7f8d101bbbd0>"
      ]
     },
     "execution_count": 41,
     "metadata": {},
     "output_type": "execute_result"
    }
   ],
   "source": [
    "vals = iter(img1)\n",
    "islice(vals, 28)"
   ]
  },
  {
   "cell_type": "code",
   "execution_count": 60,
   "id": "1b386ca3-758a-4328-9877-b865580d1a39",
   "metadata": {},
   "outputs": [
    {
     "data": {
      "text/plain": [
       "[0.0,\n",
       " 0.0,\n",
       " 0.0,\n",
       " 0.0,\n",
       " 0.0,\n",
       " 0.0,\n",
       " 0.0,\n",
       " 0.0,\n",
       " 0.0,\n",
       " 0.0,\n",
       " 0.0,\n",
       " 0.05859375,\n",
       " 0.3671875,\n",
       " 0.63671875,\n",
       " 0.98828125,\n",
       " 0.98828125,\n",
       " 0.98828125,\n",
       " 0.98828125,\n",
       " 0.9296875,\n",
       " 0.8515625,\n",
       " 0.796875,\n",
       " 0.13671875,\n",
       " 0.0,\n",
       " 0.0,\n",
       " 0.0,\n",
       " 0.0,\n",
       " 0.0,\n",
       " 0.0]"
      ]
     },
     "execution_count": 60,
     "metadata": {},
     "output_type": "execute_result"
    }
   ],
   "source": [
    "list(islice(vals, 28))"
   ]
  },
  {
   "cell_type": "code",
   "execution_count": 61,
   "id": "7228e196-c641-4707-a86f-704684245412",
   "metadata": {},
   "outputs": [],
   "source": [
    "class Matrix:\n",
    "    def __init__(self, item: list):\n",
    "        self.item = item\n",
    "    def __getitem__(self, index: list):\n",
    "        return self.item[index[0]][index[1]]\n",
    "    \n",
    "    def __len__(self):\n",
    "        print(len(self.item[0]))\n",
    "        return len(self.item)"
   ]
  },
  {
   "cell_type": "code",
   "execution_count": 62,
   "id": "bba5e6b6-513f-4600-9642-6e96775c8812",
   "metadata": {},
   "outputs": [],
   "source": [
    "x = [[1,2,3], [4,5,6]]\n",
    "y  = [[1,2], [3,4],[5,6]]"
   ]
  },
  {
   "cell_type": "code",
   "execution_count": 63,
   "id": "f324d4ca-fd35-4bdd-8537-0fb66c4fff2d",
   "metadata": {},
   "outputs": [
    {
     "data": {
      "text/plain": [
       "3"
      ]
     },
     "execution_count": 63,
     "metadata": {},
     "output_type": "execute_result"
    }
   ],
   "source": [
    "a1 = Matrix(x)\n",
    "a1[0,2]"
   ]
  },
  {
   "cell_type": "code",
   "execution_count": 64,
   "id": "e0ddb87c-00a8-47f5-a57c-64b506308e5b",
   "metadata": {},
   "outputs": [
    {
     "name": "stdout",
     "output_type": "stream",
     "text": [
      "3\n"
     ]
    },
    {
     "data": {
      "text/plain": [
       "2"
      ]
     },
     "execution_count": 64,
     "metadata": {},
     "output_type": "execute_result"
    }
   ],
   "source": [
    "len(a1)"
   ]
  },
  {
   "cell_type": "code",
   "execution_count": 65,
   "id": "a47f4e5f-0701-4af8-8794-b8069910fc58",
   "metadata": {},
   "outputs": [],
   "source": [
    "a2= Matrix(y)"
   ]
  },
  {
   "cell_type": "code",
   "execution_count": 66,
   "id": "3a870508-67b5-4181-8254-a1ce4cdbf114",
   "metadata": {},
   "outputs": [
    {
     "name": "stdout",
     "output_type": "stream",
     "text": [
      "2\n"
     ]
    },
    {
     "data": {
      "text/plain": [
       "3"
      ]
     },
     "execution_count": 66,
     "metadata": {},
     "output_type": "execute_result"
    }
   ],
   "source": [
    "len(a2)"
   ]
  },
  {
   "cell_type": "code",
   "execution_count": 70,
   "id": "d1d0236d-8635-4930-bff4-a37f2a1b3a3c",
   "metadata": {},
   "outputs": [
    {
     "name": "stderr",
     "output_type": "stream",
     "text": [
      "/tmp/ipykernel_999/36036253.py:1: UserWarning: To copy construct from a tensor, it is recommended to use sourceTensor.clone().detach() or sourceTensor.clone().detach().requires_grad_(True), rather than torch.tensor(sourceTensor).\n",
      "  (x_train, y_train, x_valid, y_valid) = map(torch.tensor, (x_train, y_train, x_valid, y_valid))\n"
     ]
    }
   ],
   "source": [
    "(x_train, y_train, x_valid, y_valid) = map(torch.tensor, (x_train, y_train, x_valid, y_valid))"
   ]
  },
  {
   "cell_type": "code",
   "execution_count": 71,
   "id": "eb1e432f-6a6e-4298-9db2-21b25f569189",
   "metadata": {},
   "outputs": [
    {
     "data": {
      "text/plain": [
       "torch.Size([50000, 784])"
      ]
     },
     "execution_count": 71,
     "metadata": {},
     "output_type": "execute_result"
    }
   ],
   "source": [
    "x_train.shape"
   ]
  },
  {
   "cell_type": "code",
   "execution_count": 72,
   "id": "3e6c4e1c-ae22-40fd-9c77-273d8835219b",
   "metadata": {},
   "outputs": [
    {
     "data": {
      "text/plain": [
       "torch.Size([10000, 784])"
      ]
     },
     "execution_count": 72,
     "metadata": {},
     "output_type": "execute_result"
    }
   ],
   "source": [
    "x_valid.shape"
   ]
  },
  {
   "cell_type": "code",
   "execution_count": 73,
   "id": "f34baa9c-86a2-4b46-90e5-bdbfe2dfb910",
   "metadata": {},
   "outputs": [
    {
     "data": {
      "text/plain": [
       "tensor([[[0., 0., 0.,  ..., 0., 0., 0.],\n",
       "         [0., 0., 0.,  ..., 0., 0., 0.],\n",
       "         [0., 0., 0.,  ..., 0., 0., 0.],\n",
       "         ...,\n",
       "         [0., 0., 0.,  ..., 0., 0., 0.],\n",
       "         [0., 0., 0.,  ..., 0., 0., 0.],\n",
       "         [0., 0., 0.,  ..., 0., 0., 0.]],\n",
       "\n",
       "        [[0., 0., 0.,  ..., 0., 0., 0.],\n",
       "         [0., 0., 0.,  ..., 0., 0., 0.],\n",
       "         [0., 0., 0.,  ..., 0., 0., 0.],\n",
       "         ...,\n",
       "         [0., 0., 0.,  ..., 0., 0., 0.],\n",
       "         [0., 0., 0.,  ..., 0., 0., 0.],\n",
       "         [0., 0., 0.,  ..., 0., 0., 0.]],\n",
       "\n",
       "        [[0., 0., 0.,  ..., 0., 0., 0.],\n",
       "         [0., 0., 0.,  ..., 0., 0., 0.],\n",
       "         [0., 0., 0.,  ..., 0., 0., 0.],\n",
       "         ...,\n",
       "         [0., 0., 0.,  ..., 0., 0., 0.],\n",
       "         [0., 0., 0.,  ..., 0., 0., 0.],\n",
       "         [0., 0., 0.,  ..., 0., 0., 0.]],\n",
       "\n",
       "        ...,\n",
       "\n",
       "        [[0., 0., 0.,  ..., 0., 0., 0.],\n",
       "         [0., 0., 0.,  ..., 0., 0., 0.],\n",
       "         [0., 0., 0.,  ..., 0., 0., 0.],\n",
       "         ...,\n",
       "         [0., 0., 0.,  ..., 0., 0., 0.],\n",
       "         [0., 0., 0.,  ..., 0., 0., 0.],\n",
       "         [0., 0., 0.,  ..., 0., 0., 0.]],\n",
       "\n",
       "        [[0., 0., 0.,  ..., 0., 0., 0.],\n",
       "         [0., 0., 0.,  ..., 0., 0., 0.],\n",
       "         [0., 0., 0.,  ..., 0., 0., 0.],\n",
       "         ...,\n",
       "         [0., 0., 0.,  ..., 0., 0., 0.],\n",
       "         [0., 0., 0.,  ..., 0., 0., 0.],\n",
       "         [0., 0., 0.,  ..., 0., 0., 0.]],\n",
       "\n",
       "        [[0., 0., 0.,  ..., 0., 0., 0.],\n",
       "         [0., 0., 0.,  ..., 0., 0., 0.],\n",
       "         [0., 0., 0.,  ..., 0., 0., 0.],\n",
       "         ...,\n",
       "         [0., 0., 0.,  ..., 0., 0., 0.],\n",
       "         [0., 0., 0.,  ..., 0., 0., 0.],\n",
       "         [0., 0., 0.,  ..., 0., 0., 0.]]])"
      ]
     },
     "execution_count": 73,
     "metadata": {},
     "output_type": "execute_result"
    }
   ],
   "source": [
    "x_train.reshape((-1,28,28))"
   ]
  },
  {
   "cell_type": "code",
   "execution_count": 74,
   "id": "01d3a229-7381-4b8d-8255-94ee967db9f8",
   "metadata": {},
   "outputs": [
    {
     "data": {
      "text/plain": [
       "torch.Size([50000, 28, 28])"
      ]
     },
     "execution_count": 74,
     "metadata": {},
     "output_type": "execute_result"
    }
   ],
   "source": [
    "x_train.reshape((50000,28,28)).shape"
   ]
  },
  {
   "cell_type": "code",
   "execution_count": 75,
   "id": "0d22379e-42ff-4af8-abc8-79ca5b49a2c6",
   "metadata": {},
   "outputs": [
    {
     "data": {
      "text/plain": [
       "torch.Size([50000])"
      ]
     },
     "execution_count": 75,
     "metadata": {},
     "output_type": "execute_result"
    }
   ],
   "source": [
    "y_train.shape"
   ]
  },
  {
   "cell_type": "code",
   "execution_count": 76,
   "id": "05606213-d378-49da-a0b2-ccd05beca1d4",
   "metadata": {},
   "outputs": [
    {
     "data": {
      "text/plain": [
       "torch.Size([784, 10])"
      ]
     },
     "execution_count": 76,
     "metadata": {},
     "output_type": "execute_result"
    }
   ],
   "source": [
    "weight = torch.randn(784, 10)\n",
    "weight.shape"
   ]
  },
  {
   "cell_type": "code",
   "execution_count": 77,
   "id": "31236dbb-2b9e-409d-83d2-16648fa2ca25",
   "metadata": {},
   "outputs": [
    {
     "data": {
      "text/plain": [
       "tensor(-0.)"
      ]
     },
     "execution_count": 77,
     "metadata": {},
     "output_type": "execute_result"
    }
   ],
   "source": [
    "x_train[0,0]*weight[0,3]"
   ]
  },
  {
   "cell_type": "code",
   "execution_count": 80,
   "id": "3805eae1-b92b-4348-8cbf-e9364e7116c2",
   "metadata": {},
   "outputs": [],
   "source": [
    "x_sample = x_train[:50]"
   ]
  },
  {
   "cell_type": "code",
   "execution_count": 81,
   "id": "68328aed-aeb3-4e4b-957c-0afdd42aef82",
   "metadata": {},
   "outputs": [
    {
     "data": {
      "text/plain": [
       "tensor([[ 0.28,  0.36,  0.68,  ..., -0.07, -1.08, -0.30],\n",
       "        [-0.32,  0.11,  0.41,  ..., -0.39,  0.62,  1.13],\n",
       "        [-0.24, -0.81, -0.35,  ..., -2.54,  0.69, -1.40],\n",
       "        ...,\n",
       "        [-0.77,  0.19,  0.27,  ...,  0.21,  0.03,  0.75],\n",
       "        [-1.31,  0.32, -0.11,  ...,  0.52, -0.32,  0.53],\n",
       "        [-0.94,  1.07,  0.66,  ..., -0.07, -0.99,  0.67]])"
      ]
     },
     "execution_count": 81,
     "metadata": {},
     "output_type": "execute_result"
    }
   ],
   "source": [
    "weight"
   ]
  },
  {
   "cell_type": "code",
   "execution_count": 82,
   "id": "f139da1e-8b96-4043-8ca2-aaedcfdc0098",
   "metadata": {},
   "outputs": [
    {
     "data": {
      "text/plain": [
       "torch.Size([50, 10])"
      ]
     },
     "execution_count": 82,
     "metadata": {},
     "output_type": "execute_result"
    }
   ],
   "source": [
    "i, j = x_sample.shape\n",
    "j, k= weight.shape\n",
    "res = torch.zeros(i, k)\n",
    "res.shape"
   ]
  },
  {
   "cell_type": "code",
   "execution_count": 83,
   "id": "8a0e0087-1697-4e86-bb37-9d23b8b0060d",
   "metadata": {},
   "outputs": [
    {
     "name": "stdout",
     "output_type": "stream",
     "text": [
      "CPU times: user 5.27 s, sys: 8.45 ms, total: 5.27 s\n",
      "Wall time: 5.27 s\n"
     ]
    }
   ],
   "source": [
    "%%time\n",
    "for a in range(i):\n",
    "    for b in range(j):\n",
    "        for c in range(k):\n",
    "            # print(x_train[a,b])\n",
    "            res[a,c] += x_sample[a,b]*weight[b,c]"
   ]
  },
  {
   "cell_type": "code",
   "execution_count": 84,
   "id": "2496c6e2-7e2a-4bae-aa58-b912447f7d56",
   "metadata": {},
   "outputs": [
    {
     "data": {
      "text/plain": [
       "tensor([[ 2.57e+00,  5.00e+00, -8.27e+00,  1.59e+00, -5.12e+00,  7.71e+00,  6.84e-01,  1.00e+01,  5.13e+00,  2.13e+01],\n",
       "        [ 4.53e+00,  1.06e+01, -3.09e+00, -4.67e+00,  4.78e+00,  8.66e-01,  4.59e+00, -3.68e-01, -5.47e+00,  7.24e+00],\n",
       "        [ 1.70e+01,  1.91e+01,  3.68e+00, -2.57e+00, -1.18e+01, -7.42e+00, -1.40e+00,  2.53e+00, -1.03e+01,  1.51e+01],\n",
       "        [-6.57e+00, -1.42e-02, -3.39e+00, -1.18e+01,  5.33e+00, -1.26e+00,  2.33e+00,  1.86e+00, -5.02e+00,  8.04e+00],\n",
       "        [ 3.01e+00,  3.39e+00, -1.22e+01,  1.59e+00,  1.14e+01, -8.65e+00, -9.15e+00,  7.24e+00, -3.08e+00,  1.36e+01],\n",
       "        [-8.92e+00,  7.72e+00, -1.43e+01, -2.77e+00,  1.14e+01,  8.26e+00, -6.70e+00,  8.36e+00, -7.69e+00,  1.90e+01],\n",
       "        [-6.26e+00,  7.07e+00, -2.46e+01,  5.81e-01, -2.03e+00, -5.23e+00, -8.02e+00,  7.74e+00, -1.81e+00,  1.40e+01],\n",
       "        [ 6.10e+00,  1.04e+01, -1.18e+01, -1.17e+01,  3.09e+00,  9.71e-01, -2.71e+00,  1.20e+01, -1.27e+01,  2.58e+01],\n",
       "        [-5.90e+00,  5.85e+00, -1.31e+01,  6.00e+00,  3.65e+00,  3.64e+00, -3.12e+00,  5.89e+00,  2.60e-01,  1.25e+01],\n",
       "        [ 3.05e+00,  4.95e+00, -7.49e+00,  2.68e+00,  1.53e+00,  8.51e+00, -1.14e+01,  5.82e-01, -4.12e+00,  1.53e+01],\n",
       "        [-5.94e+00,  6.82e+00, -9.70e+00, -4.88e+00,  9.99e-01, -1.20e+01,  5.59e-01, -5.03e+00, -1.04e+01,  2.31e+01],\n",
       "        [-1.30e+01,  4.26e+00, -3.27e+00, -5.68e+00, -1.04e+00, -3.45e+00, -1.16e+01,  6.46e+00, -3.52e+00,  4.49e+00],\n",
       "        [-4.62e+00,  2.28e+01, -1.20e+00, -6.14e+00, -5.48e+00, -1.90e+01,  2.65e+00,  6.05e+00, -3.48e+01,  1.62e+01],\n",
       "        [-5.83e+00, -5.89e-02, -2.53e+00, -1.34e+01, -6.73e+00,  2.33e+00, -3.03e+00,  8.28e-01, -1.39e+01,  2.24e+01],\n",
       "        [-1.08e+01,  3.04e+00, -1.15e+01, -1.16e-01,  3.17e+00, -1.52e+00,  5.29e-02,  1.23e+01,  9.07e-01,  9.86e+00],\n",
       "        [ 1.09e+01,  1.69e+00, -4.78e+00,  1.79e+00, -2.28e-01, -6.58e+00, -1.43e+01,  6.23e-01,  4.63e-01,  1.11e+01],\n",
       "        [ 5.17e+00,  1.45e+01, -3.99e+00,  9.49e+00, -6.31e+00, -4.51e-01, -7.86e-01,  5.06e+00, -5.97e-02,  1.46e+01],\n",
       "        [ 7.53e+00,  7.90e+00, -1.41e+01,  5.85e+00,  1.44e+01,  6.62e+00, -8.41e+00,  7.84e+00,  2.57e+00,  2.03e+01],\n",
       "        [-5.86e+00,  6.92e+00, -8.38e+00,  4.72e+00,  3.16e+00, -8.88e+00, -2.12e+00,  4.81e+00, -2.15e+00,  1.20e+01],\n",
       "        [ 5.19e+00,  4.91e+00, -8.08e+00, -2.82e+00,  8.96e+00,  1.77e+00, -8.81e+00,  2.08e+00,  2.22e-01,  1.37e+01],\n",
       "        [-4.11e+00,  2.53e+01, -7.27e+00, -3.58e+00, -8.69e+00, -1.07e+01, -5.75e+00,  2.61e+00, -1.95e+01,  2.51e+01],\n",
       "        [ 3.99e+00,  1.28e+01, -2.15e+00,  5.46e+00,  9.39e+00, -4.77e+00, -5.26e+00,  7.07e+00, -6.17e+00,  9.47e+00],\n",
       "        [ 5.83e+00,  6.62e+00, -1.86e+00, -5.42e+00,  4.46e+00,  5.62e+00, -7.69e+00, -4.75e+00,  9.70e-01,  1.32e+01],\n",
       "        [-3.07e+00, -3.49e-01, -4.94e+00, -1.35e+01,  5.40e+00, -1.05e+00,  1.25e+00, -2.62e-01, -6.32e+00,  1.03e+01],\n",
       "        [ 6.91e+00,  5.06e+00, -3.14e+00,  2.90e+00,  4.89e+00, -2.49e+00, -3.77e+00, -2.94e+00, -3.16e+00,  7.42e+00],\n",
       "        [ 2.24e+00,  2.59e+01, -8.37e+00, -9.92e-03,  2.81e+00,  7.76e+00, -1.88e+00,  1.49e+01, -7.45e+00,  2.01e+01],\n",
       "        [-5.87e-02, -8.33e-01, -1.04e+01, -7.08e+00, -9.11e+00, -6.81e+00, -3.68e+00, -2.92e+00, -4.45e+00,  1.11e+01],\n",
       "        [ 3.61e+00,  2.12e+01, -1.74e+01, -1.05e+01,  1.60e-01, -2.81e+00, -7.18e+00,  7.33e+00, -4.45e+00,  2.49e+01],\n",
       "        [ 4.31e-01,  6.82e+00, -4.55e+00, -7.36e-01, -8.65e+00,  5.04e+00, -9.55e+00, -1.04e+01, -1.19e+01,  2.10e+01],\n",
       "        [ 1.25e+00, -1.44e+00, -3.00e+00, -8.76e+00,  8.86e+00, -4.47e+00, -3.93e+00,  6.85e+00, -9.77e+00,  5.27e+00],\n",
       "        [-2.25e+00,  1.04e+01, -1.75e+01,  3.60e-01, -6.52e+00, -3.19e+00, -1.59e+01,  1.14e+01, -5.02e+00,  1.84e+01],\n",
       "        [ 9.33e+00,  1.48e+01, -1.47e+01, -8.31e-01,  6.21e+00,  1.45e+01, -2.92e+00,  1.17e+01,  4.46e-01,  7.19e+00],\n",
       "        [-4.45e+00, -1.55e+00, -1.03e+01, -3.44e+00, -6.74e+00, -4.69e+00, -8.15e+00,  8.76e-01, -1.64e+00,  1.48e+01],\n",
       "        [ 8.06e+00, -1.47e+00, -6.90e+00, -1.90e+00,  7.83e+00,  9.81e-01, -9.08e+00,  3.62e-01,  1.99e+00,  6.94e+00],\n",
       "        [-3.57e-01,  9.07e+00,  3.06e-01,  1.24e+01, -5.04e+00, -1.51e+00, -1.42e+00,  2.67e+00, -9.62e+00,  2.90e+01],\n",
       "        [-3.01e+00,  9.45e-01,  3.58e+00, -4.91e+00,  5.22e+00,  8.25e+00, -4.74e+00,  3.37e+00, -9.88e+00,  1.12e+01],\n",
       "        [-4.50e+00,  7.60e+00, -2.38e+01, -4.11e+00,  1.31e+00, -4.20e+00, -9.31e+00,  7.24e+00, -1.55e+01,  2.31e+01],\n",
       "        [ 1.07e+00,  1.42e+01,  2.43e+00,  2.85e+00,  2.67e+00,  2.83e-01,  1.26e+00, -7.00e+00, -1.46e+01,  1.40e+01],\n",
       "        [ 4.11e+00,  1.03e+01, -1.44e+01,  5.52e+00, -3.70e+00, -4.76e+00, -1.18e+01, -9.62e+00, -3.47e+00,  1.60e+01],\n",
       "        [ 9.57e-02, -3.38e+00, -1.36e+01, -3.32e+00, -8.95e+00, -2.04e+00, -6.56e+00, -3.53e+00, -6.10e+00,  2.00e+01],\n",
       "        [-2.32e+00,  2.91e+00, -7.61e+00,  7.42e-01,  1.80e+00, -3.19e+00, -4.44e+00,  5.89e+00,  7.36e-01,  6.85e+00],\n",
       "        [-3.73e+00,  7.34e-03, -1.13e+01,  6.99e+00,  9.21e+00, -5.89e+00, -2.16e+00,  3.59e+00, -1.76e+00,  2.09e+01],\n",
       "        [ 1.26e+01, -5.36e+00, -1.02e+00, -2.98e-01, -1.57e+00, -6.25e+00, -1.16e+01, -1.15e+00,  8.51e+00,  5.60e+00],\n",
       "        [-6.02e+00,  2.87e+00, -8.55e+00, -2.02e+00,  5.51e+00,  2.67e-01, -1.05e+01,  3.64e+00,  1.55e+00,  1.22e+01],\n",
       "        [-4.76e+00,  1.36e+01, -1.06e+01, -8.30e-01, -5.32e+00, -8.77e+00, -1.42e+01,  2.07e+00, -9.28e+00,  1.14e+01],\n",
       "        [ 3.83e+00, -2.44e+00, -3.91e+00,  3.41e+00, -6.67e+00, -1.46e+00, -7.70e+00,  4.29e+00, -8.44e+00,  1.93e+01],\n",
       "        [-6.07e+00,  1.09e+00, -1.16e+01, -9.56e+00, -3.49e+00, -2.00e+00, -8.53e+00,  2.36e-01, -1.04e-01,  1.94e+01],\n",
       "        [ 8.46e+00,  1.31e+00,  1.86e+00,  2.16e+00, -8.17e+00,  1.12e+01, -3.05e+00,  1.08e+01, -4.21e+00,  2.76e+01],\n",
       "        [-5.89e+00,  5.20e+00, -1.23e+01,  2.92e+00, -1.04e+01,  2.31e+00, -7.48e+00,  3.69e+00, -5.46e+00,  7.18e+00],\n",
       "        [ 5.23e+00,  1.29e+01, -1.77e+01, -9.41e+00,  8.64e+00,  1.28e-01, -7.45e+00, -2.32e+00, -1.04e+01,  2.45e+01]])"
      ]
     },
     "execution_count": 84,
     "metadata": {},
     "output_type": "execute_result"
    }
   ],
   "source": [
    "res"
   ]
  },
  {
   "cell_type": "markdown",
   "id": "2863c341-a0de-4244-895b-879dff7ba63d",
   "metadata": {},
   "source": [
    "### Resume\n",
    "\n",
    "From https://youtu.be/6StU6UtZEbU?t=4900"
   ]
  },
  {
   "cell_type": "markdown",
   "id": "779b5d56-11da-44a2-90ee-7af0ad586862",
   "metadata": {},
   "source": [
    "Dot product optimization"
   ]
  },
  {
   "cell_type": "code",
   "execution_count": 85,
   "id": "352a225d-2933-4078-8fe0-467af85e2479",
   "metadata": {},
   "outputs": [
    {
     "name": "stdout",
     "output_type": "stream",
     "text": [
      "CPU times: user 15 ms, sys: 3.86 ms, total: 18.8 ms\n",
      "Wall time: 16.5 ms\n"
     ]
    }
   ],
   "source": [
    "%%time\n",
    "for a in range(i):\n",
    "    for c in range(k):\n",
    "        # print(x_train[a,b])\n",
    "        res[a,c] = (x_sample[a,:]*weight[:,c]).sum()"
   ]
  },
  {
   "cell_type": "code",
   "execution_count": 86,
   "id": "0721f3e8-d485-47dc-8d10-0c166f37d9f9",
   "metadata": {},
   "outputs": [
    {
     "data": {
      "text/plain": [
       "tensor([[ 2.57e+00,  5.00e+00, -8.27e+00,  1.59e+00, -5.12e+00,  7.71e+00,  6.84e-01,  1.00e+01,  5.13e+00,  2.13e+01],\n",
       "        [ 4.53e+00,  1.06e+01, -3.09e+00, -4.67e+00,  4.78e+00,  8.66e-01,  4.59e+00, -3.68e-01, -5.47e+00,  7.24e+00],\n",
       "        [ 1.70e+01,  1.91e+01,  3.68e+00, -2.57e+00, -1.18e+01, -7.42e+00, -1.40e+00,  2.53e+00, -1.03e+01,  1.51e+01],\n",
       "        [-6.57e+00, -1.42e-02, -3.39e+00, -1.18e+01,  5.33e+00, -1.26e+00,  2.33e+00,  1.86e+00, -5.02e+00,  8.04e+00],\n",
       "        [ 3.01e+00,  3.39e+00, -1.22e+01,  1.59e+00,  1.14e+01, -8.65e+00, -9.15e+00,  7.24e+00, -3.08e+00,  1.36e+01],\n",
       "        [-8.92e+00,  7.72e+00, -1.43e+01, -2.77e+00,  1.14e+01,  8.26e+00, -6.70e+00,  8.36e+00, -7.69e+00,  1.90e+01],\n",
       "        [-6.26e+00,  7.07e+00, -2.46e+01,  5.81e-01, -2.03e+00, -5.23e+00, -8.02e+00,  7.74e+00, -1.81e+00,  1.40e+01],\n",
       "        [ 6.10e+00,  1.04e+01, -1.18e+01, -1.17e+01,  3.09e+00,  9.71e-01, -2.71e+00,  1.20e+01, -1.27e+01,  2.58e+01],\n",
       "        [-5.90e+00,  5.85e+00, -1.31e+01,  6.00e+00,  3.65e+00,  3.64e+00, -3.12e+00,  5.89e+00,  2.60e-01,  1.25e+01],\n",
       "        [ 3.05e+00,  4.95e+00, -7.49e+00,  2.68e+00,  1.53e+00,  8.51e+00, -1.14e+01,  5.82e-01, -4.12e+00,  1.53e+01],\n",
       "        [-5.94e+00,  6.82e+00, -9.70e+00, -4.88e+00,  9.99e-01, -1.20e+01,  5.59e-01, -5.03e+00, -1.04e+01,  2.31e+01],\n",
       "        [-1.30e+01,  4.26e+00, -3.27e+00, -5.68e+00, -1.04e+00, -3.45e+00, -1.16e+01,  6.46e+00, -3.52e+00,  4.49e+00],\n",
       "        [-4.62e+00,  2.28e+01, -1.20e+00, -6.14e+00, -5.48e+00, -1.90e+01,  2.65e+00,  6.05e+00, -3.48e+01,  1.62e+01],\n",
       "        [-5.83e+00, -5.89e-02, -2.53e+00, -1.34e+01, -6.73e+00,  2.33e+00, -3.03e+00,  8.28e-01, -1.39e+01,  2.24e+01],\n",
       "        [-1.08e+01,  3.04e+00, -1.15e+01, -1.16e-01,  3.17e+00, -1.52e+00,  5.29e-02,  1.23e+01,  9.07e-01,  9.86e+00],\n",
       "        [ 1.09e+01,  1.69e+00, -4.78e+00,  1.79e+00, -2.28e-01, -6.58e+00, -1.43e+01,  6.23e-01,  4.63e-01,  1.11e+01],\n",
       "        [ 5.17e+00,  1.45e+01, -3.99e+00,  9.49e+00, -6.31e+00, -4.51e-01, -7.86e-01,  5.06e+00, -5.97e-02,  1.46e+01],\n",
       "        [ 7.53e+00,  7.90e+00, -1.41e+01,  5.85e+00,  1.44e+01,  6.62e+00, -8.41e+00,  7.84e+00,  2.57e+00,  2.03e+01],\n",
       "        [-5.86e+00,  6.92e+00, -8.38e+00,  4.72e+00,  3.16e+00, -8.88e+00, -2.12e+00,  4.81e+00, -2.15e+00,  1.20e+01],\n",
       "        [ 5.19e+00,  4.91e+00, -8.08e+00, -2.82e+00,  8.96e+00,  1.77e+00, -8.81e+00,  2.08e+00,  2.22e-01,  1.37e+01],\n",
       "        [-4.11e+00,  2.53e+01, -7.27e+00, -3.58e+00, -8.69e+00, -1.07e+01, -5.75e+00,  2.61e+00, -1.95e+01,  2.51e+01],\n",
       "        [ 3.99e+00,  1.28e+01, -2.15e+00,  5.46e+00,  9.39e+00, -4.77e+00, -5.26e+00,  7.07e+00, -6.17e+00,  9.47e+00],\n",
       "        [ 5.83e+00,  6.62e+00, -1.86e+00, -5.42e+00,  4.46e+00,  5.62e+00, -7.69e+00, -4.75e+00,  9.70e-01,  1.32e+01],\n",
       "        [-3.07e+00, -3.49e-01, -4.94e+00, -1.35e+01,  5.40e+00, -1.05e+00,  1.25e+00, -2.62e-01, -6.32e+00,  1.03e+01],\n",
       "        [ 6.91e+00,  5.06e+00, -3.14e+00,  2.90e+00,  4.89e+00, -2.49e+00, -3.77e+00, -2.94e+00, -3.16e+00,  7.42e+00],\n",
       "        [ 2.24e+00,  2.59e+01, -8.37e+00, -9.92e-03,  2.81e+00,  7.76e+00, -1.88e+00,  1.49e+01, -7.45e+00,  2.01e+01],\n",
       "        [-5.87e-02, -8.33e-01, -1.04e+01, -7.08e+00, -9.11e+00, -6.81e+00, -3.68e+00, -2.92e+00, -4.45e+00,  1.11e+01],\n",
       "        [ 3.61e+00,  2.12e+01, -1.74e+01, -1.05e+01,  1.60e-01, -2.81e+00, -7.18e+00,  7.33e+00, -4.45e+00,  2.49e+01],\n",
       "        [ 4.31e-01,  6.82e+00, -4.55e+00, -7.36e-01, -8.65e+00,  5.04e+00, -9.55e+00, -1.04e+01, -1.19e+01,  2.10e+01],\n",
       "        [ 1.25e+00, -1.44e+00, -3.00e+00, -8.76e+00,  8.86e+00, -4.47e+00, -3.93e+00,  6.85e+00, -9.77e+00,  5.27e+00],\n",
       "        [-2.25e+00,  1.04e+01, -1.75e+01,  3.60e-01, -6.52e+00, -3.19e+00, -1.59e+01,  1.14e+01, -5.02e+00,  1.84e+01],\n",
       "        [ 9.33e+00,  1.48e+01, -1.47e+01, -8.31e-01,  6.21e+00,  1.45e+01, -2.92e+00,  1.17e+01,  4.46e-01,  7.19e+00],\n",
       "        [-4.45e+00, -1.55e+00, -1.03e+01, -3.44e+00, -6.74e+00, -4.69e+00, -8.15e+00,  8.76e-01, -1.64e+00,  1.48e+01],\n",
       "        [ 8.06e+00, -1.47e+00, -6.90e+00, -1.90e+00,  7.83e+00,  9.81e-01, -9.08e+00,  3.62e-01,  1.99e+00,  6.94e+00],\n",
       "        [-3.57e-01,  9.07e+00,  3.06e-01,  1.24e+01, -5.04e+00, -1.51e+00, -1.42e+00,  2.67e+00, -9.62e+00,  2.90e+01],\n",
       "        [-3.01e+00,  9.45e-01,  3.58e+00, -4.91e+00,  5.22e+00,  8.25e+00, -4.74e+00,  3.37e+00, -9.88e+00,  1.12e+01],\n",
       "        [-4.50e+00,  7.60e+00, -2.38e+01, -4.11e+00,  1.31e+00, -4.20e+00, -9.31e+00,  7.24e+00, -1.55e+01,  2.31e+01],\n",
       "        [ 1.07e+00,  1.42e+01,  2.43e+00,  2.85e+00,  2.67e+00,  2.83e-01,  1.26e+00, -7.00e+00, -1.46e+01,  1.40e+01],\n",
       "        [ 4.11e+00,  1.03e+01, -1.44e+01,  5.52e+00, -3.70e+00, -4.76e+00, -1.18e+01, -9.62e+00, -3.47e+00,  1.60e+01],\n",
       "        [ 9.57e-02, -3.38e+00, -1.36e+01, -3.32e+00, -8.95e+00, -2.04e+00, -6.56e+00, -3.53e+00, -6.10e+00,  2.00e+01],\n",
       "        [-2.32e+00,  2.91e+00, -7.61e+00,  7.42e-01,  1.80e+00, -3.19e+00, -4.44e+00,  5.89e+00,  7.36e-01,  6.85e+00],\n",
       "        [-3.73e+00,  7.34e-03, -1.13e+01,  6.99e+00,  9.21e+00, -5.89e+00, -2.16e+00,  3.59e+00, -1.76e+00,  2.09e+01],\n",
       "        [ 1.26e+01, -5.36e+00, -1.02e+00, -2.98e-01, -1.57e+00, -6.25e+00, -1.16e+01, -1.15e+00,  8.51e+00,  5.60e+00],\n",
       "        [-6.02e+00,  2.87e+00, -8.55e+00, -2.02e+00,  5.51e+00,  2.67e-01, -1.05e+01,  3.64e+00,  1.55e+00,  1.22e+01],\n",
       "        [-4.76e+00,  1.36e+01, -1.06e+01, -8.30e-01, -5.32e+00, -8.77e+00, -1.42e+01,  2.07e+00, -9.28e+00,  1.14e+01],\n",
       "        [ 3.83e+00, -2.44e+00, -3.91e+00,  3.41e+00, -6.67e+00, -1.46e+00, -7.70e+00,  4.29e+00, -8.44e+00,  1.93e+01],\n",
       "        [-6.07e+00,  1.09e+00, -1.16e+01, -9.56e+00, -3.49e+00, -2.00e+00, -8.53e+00,  2.36e-01, -1.04e-01,  1.94e+01],\n",
       "        [ 8.46e+00,  1.31e+00,  1.86e+00,  2.16e+00, -8.17e+00,  1.12e+01, -3.05e+00,  1.08e+01, -4.21e+00,  2.76e+01],\n",
       "        [-5.89e+00,  5.20e+00, -1.23e+01,  2.92e+00, -1.04e+01,  2.31e+00, -7.48e+00,  3.69e+00, -5.46e+00,  7.18e+00],\n",
       "        [ 5.23e+00,  1.29e+01, -1.77e+01, -9.41e+00,  8.64e+00,  1.28e-01, -7.45e+00, -2.32e+00, -1.04e+01,  2.45e+01]])"
      ]
     },
     "execution_count": 86,
     "metadata": {},
     "output_type": "execute_result"
    }
   ],
   "source": [
    "res"
   ]
  },
  {
   "cell_type": "markdown",
   "id": "89bffb9a-815a-4b31-ac57-fcce7c2048ae",
   "metadata": {},
   "source": [
    "## Numba"
   ]
  },
  {
   "cell_type": "code",
   "execution_count": 87,
   "id": "7d8054b6-91a8-4958-87ef-ac23c13a19e7",
   "metadata": {},
   "outputs": [],
   "source": [
    "from numba import njit"
   ]
  },
  {
   "cell_type": "markdown",
   "id": "cc4cf060-ea54-4ee8-a09a-819d522753ac",
   "metadata": {},
   "source": [
    "## APL method"
   ]
  },
  {
   "cell_type": "code",
   "execution_count": null,
   "id": "4f02c015-f9fb-467e-a0d5-9495dda16b71",
   "metadata": {},
   "outputs": [],
   "source": []
  },
  {
   "cell_type": "markdown",
   "id": "523fa459-c243-4249-a8f6-6deffd15bf2f",
   "metadata": {},
   "source": [
    "## Torch.einsum"
   ]
  },
  {
   "cell_type": "code",
   "execution_count": null,
   "id": "ea057769-858f-44e9-ba73-581a1938c802",
   "metadata": {},
   "outputs": [],
   "source": []
  },
  {
   "cell_type": "markdown",
   "id": "84f0446c-bd78-46ea-9f04-47ead17e693a",
   "metadata": {},
   "source": [
    "## Matrix broadcasting"
   ]
  },
  {
   "cell_type": "code",
   "execution_count": null,
   "id": "214a1e43-4421-40e9-99a1-dd47d664bb4c",
   "metadata": {},
   "outputs": [],
   "source": []
  },
  {
   "cell_type": "markdown",
   "id": "a542fd89-be61-4eb5-a02c-808606e5d2c9",
   "metadata": {},
   "source": [
    "## Important:\n",
    "\n",
    "- Rules for matrix broadcasting\n",
    "- Rules for einsum"
   ]
  },
  {
   "cell_type": "code",
   "execution_count": null,
   "id": "f800716c-e29a-4f63-b0cd-77f75ba465e2",
   "metadata": {},
   "outputs": [],
   "source": []
  }
 ],
 "metadata": {
  "kernelspec": {
   "display_name": "Python 3 (ipykernel)",
   "language": "python",
   "name": "python3"
  },
  "language_info": {
   "codemirror_mode": {
    "name": "ipython",
    "version": 3
   },
   "file_extension": ".py",
   "mimetype": "text/x-python",
   "name": "python",
   "nbconvert_exporter": "python",
   "pygments_lexer": "ipython3",
   "version": "3.8.12"
  },
  "toc-autonumbering": true,
  "toc-showcode": true
 },
 "nbformat": 4,
 "nbformat_minor": 5
}
