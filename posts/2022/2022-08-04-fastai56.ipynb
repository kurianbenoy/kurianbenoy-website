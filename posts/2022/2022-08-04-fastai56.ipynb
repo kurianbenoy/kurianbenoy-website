{
 "cells": [
  {
   "cell_type": "raw",
   "metadata": {},
   "source": [
    "---\n",
    "aliases:\n",
    "- /fastai/fastaicourse/2022/08/04/fastai56\n",
    "author: Kurian Benoy\n",
    "badges: true\n",
    "branch: master\n",
    "categories:\n",
    "- fastai\n",
    "- fastaicourse\n",
    "date: '2022-08-04'\n",
    "description: This blog-post series captures my weekly notes while I attend the [fastaiv5\n",
    "  course conducted by University of Queensland with fast.ai](https://itee.uq.edu.au/event/2022/practical-deep-learning-coders-uq-fastai).\n",
    "hide: false\n",
    "hide_binder_badge: true\n",
    "hide_deepnote_badge: true\n",
    "output-file: 2022-08-04-fastai56.html\n",
    "search_exclude: false\n",
    "title: Practical Deep Learning for Coders Course - Paddy Disease Classification competition\n",
    "toc: true\n",
    "\n",
    "---\n",
    "\n"
   ]
  },
  {
   "cell_type": "markdown",
   "id": "6fc86557-2085-4f63-85e3-7bfaa8e1c7e6",
   "metadata": {},
   "source": [
    "## Lesson Notebooks\n",
    "\n",
    "There are four notebook covering Paddy Disease Competition, and I feel each of these notebooks are excellent:\n",
    "\n",
    "![image](./images/paddy.JPG)\n",
    "\n",
    "1. [Road to Top Part 1](https://www.kaggle.com/code/jhoward/first-steps-road-to-the-top-part-1)\n",
    "2. [Road to Top Part 2](https://www.kaggle.com/code/jhoward/small-models-road-to-the-top-part-2)\n",
    "3. [Road to Top Part 3](https://www.kaggle.com/code/jhoward/scaling-up-road-to-the-top-part-3)\n",
    "4. [Road to Top Part 4](https://www.kaggle.com/code/jhoward/multi-target-road-to-the-top-part-4)\n",
    "\n",
    "## How was Paddy competiton for me?\n",
    "\n",
    "This competition is still ongoing at the time of writing. Yet during one month break during which [Jeremy's live-coding sessions](https://www.youtube.com/playlist?list=PLfYUBJiXbdtSLBPJ1GMx-sQWf6iNhb8mM) were held. I got some time to play with Paddy disease classification competition with this competition with other fastai friends also.\n",
    "\n",
    "At the start of lesson 7, Jeremy said some kind words to Nick and me which can be found in below youtube video. I am extremely lucky to learn from such a great teacher. Without these four notebooks and [Jeremy's live-coding sessions](https://www.youtube.com/playlist?list=PLfYUBJiXbdtSLBPJ1GMx-sQWf6iNhb8mM), it wouldn't have been possible.\n",
    "\n",
    "![Jeremy showing leaderboard in class](./images/jeremy_class_shoutout.png)\n",
    "\n",
    "[A clip from original video](https://youtube.com/clip/Ugkx5ItB_l5CnUy-T5tpfEXuqB9GR6f-bvZi)\n",
    "\n",
    "I am not going in detail on this lesson, as I feel the introduction notebooks have covered everything so well. So signing off early this time."
   ]
  },
  {
   "cell_type": "code",
   "execution_count": null,
   "id": "224c067f",
   "metadata": {},
   "outputs": [],
   "source": []
  }
 ],
 "metadata": {
  "kernelspec": {
   "display_name": "Python 3 (ipykernel)",
   "language": "python",
   "name": "python3"
  },
  "language_info": {
   "codemirror_mode": {
    "name": "ipython",
    "version": 3
   },
   "file_extension": ".py",
   "mimetype": "text/x-python",
   "name": "python",
   "nbconvert_exporter": "python",
   "pygments_lexer": "ipython3",
   "version": "3.10.6"
  },
  "vscode": {
   "interpreter": {
    "hash": "2c158fc4cc62aaf8efdf4e544f2c60f81becbac2749f1463ef4629eb66a90f1a"
   }
  }
 },
 "nbformat": 4,
 "nbformat_minor": 5
}
